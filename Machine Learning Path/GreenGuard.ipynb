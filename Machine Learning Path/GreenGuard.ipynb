{
  "cells": [
    {
      "cell_type": "markdown",
      "metadata": {
        "id": "rLZadvJesVR-"
      },
      "source": [
        "**Import Library**"
      ]
    },
    {
      "cell_type": "code",
      "execution_count": null,
      "metadata": {
        "id": "AELajie_lwoL"
      },
      "outputs": [],
      "source": [
        "import numpy as np\n",
        "import pandas as pd\n",
        "import matplotlib.pyplot as plt\n",
        "import seaborn as sns\n",
        "import plotly.express as px\n",
        "\n",
        "import tensorflow as tf\n",
        "from tensorflow.keras.preprocessing.image import ImageDataGenerator\n",
        "from tensorflow.keras.models import Sequential\n",
        "from tensorflow.keras.layers import Conv2D, MaxPooling2D, Flatten, Dense, Dropout, BatchNormalization,GlobalAveragePooling2D\n",
        "from tensorflow.keras.initializers import GlorotNormal\n",
        "from tensorflow.keras.callbacks import ReduceLROnPlateau\n",
        "from tensorflow.keras.optimizers import Adam\n",
        "from tensorflow.keras.models import Model\n",
        "from tensorflow import keras\n",
        "from tensorflow.keras.optimizers import Adam\n",
        "\n",
        "\n",
        "from keras.models import load_model\n",
        "from keras.preprocessing.image import load_img, img_to_array\n",
        "from keras.callbacks import ModelCheckpoint, EarlyStopping\n",
        "from keras.applications.resnet import ResNet101\n",
        "from tensorflow.keras.applications import ResNet50\n",
        "from keras.applications.vgg16 import VGG16\n",
        "from tensorflow.keras.applications import EfficientNetV2L\n",
        "\n",
        "from PIL import Image\n",
        "import shutil\n",
        "\n",
        "import random\n",
        "import os\n",
        "import warnings"
      ]
    },
    {
      "cell_type": "markdown",
      "metadata": {
        "id": "pXqV1IqF5KHy"
      },
      "source": [
        "# **1. LOADING DATASET FROM GDRIVE**"
      ]
    },
    {
      "cell_type": "markdown",
      "metadata": {
        "id": "swSqz01DsKhp"
      },
      "source": [
        "**Mounting Google Drive in Google Colab**"
      ]
    },
    {
      "cell_type": "code",
      "execution_count": null,
      "metadata": {
        "colab": {
          "background_save": true
        },
        "id": "h-QcJecGkNId",
        "outputId": "42ff8055-89f9-43a2-aa4d-3d2142f85fc4"
      },
      "outputs": [
        {
          "ename": "ValueError",
          "evalue": "mount failed",
          "output_type": "error",
          "traceback": [
            "\u001b[0;31m---------------------------------------------------------------------------\u001b[0m",
            "\u001b[0;31mValueError\u001b[0m                                Traceback (most recent call last)",
            "\u001b[0;32m<ipython-input-2-d5df0069828e>\u001b[0m in \u001b[0;36m<cell line: 2>\u001b[0;34m()\u001b[0m\n\u001b[1;32m      1\u001b[0m \u001b[0;32mfrom\u001b[0m \u001b[0mgoogle\u001b[0m\u001b[0;34m.\u001b[0m\u001b[0mcolab\u001b[0m \u001b[0;32mimport\u001b[0m \u001b[0mdrive\u001b[0m\u001b[0;34m\u001b[0m\u001b[0;34m\u001b[0m\u001b[0m\n\u001b[0;32m----> 2\u001b[0;31m \u001b[0mdrive\u001b[0m\u001b[0;34m.\u001b[0m\u001b[0mmount\u001b[0m\u001b[0;34m(\u001b[0m\u001b[0;34m'/content/drive'\u001b[0m\u001b[0;34m)\u001b[0m\u001b[0;34m\u001b[0m\u001b[0;34m\u001b[0m\u001b[0m\n\u001b[0m",
            "\u001b[0;32m/usr/local/lib/python3.10/dist-packages/google/colab/drive.py\u001b[0m in \u001b[0;36mmount\u001b[0;34m(mountpoint, force_remount, timeout_ms, readonly)\u001b[0m\n\u001b[1;32m     98\u001b[0m \u001b[0;32mdef\u001b[0m \u001b[0mmount\u001b[0m\u001b[0;34m(\u001b[0m\u001b[0mmountpoint\u001b[0m\u001b[0;34m,\u001b[0m \u001b[0mforce_remount\u001b[0m\u001b[0;34m=\u001b[0m\u001b[0;32mFalse\u001b[0m\u001b[0;34m,\u001b[0m \u001b[0mtimeout_ms\u001b[0m\u001b[0;34m=\u001b[0m\u001b[0;36m120000\u001b[0m\u001b[0;34m,\u001b[0m \u001b[0mreadonly\u001b[0m\u001b[0;34m=\u001b[0m\u001b[0;32mFalse\u001b[0m\u001b[0;34m)\u001b[0m\u001b[0;34m:\u001b[0m\u001b[0;34m\u001b[0m\u001b[0;34m\u001b[0m\u001b[0m\n\u001b[1;32m     99\u001b[0m   \u001b[0;34m\"\"\"Mount your Google Drive at the specified mountpoint path.\"\"\"\u001b[0m\u001b[0;34m\u001b[0m\u001b[0;34m\u001b[0m\u001b[0m\n\u001b[0;32m--> 100\u001b[0;31m   return _mount(\n\u001b[0m\u001b[1;32m    101\u001b[0m       \u001b[0mmountpoint\u001b[0m\u001b[0;34m,\u001b[0m\u001b[0;34m\u001b[0m\u001b[0;34m\u001b[0m\u001b[0m\n\u001b[1;32m    102\u001b[0m       \u001b[0mforce_remount\u001b[0m\u001b[0;34m=\u001b[0m\u001b[0mforce_remount\u001b[0m\u001b[0;34m,\u001b[0m\u001b[0;34m\u001b[0m\u001b[0;34m\u001b[0m\u001b[0m\n",
            "\u001b[0;32m/usr/local/lib/python3.10/dist-packages/google/colab/drive.py\u001b[0m in \u001b[0;36m_mount\u001b[0;34m(mountpoint, force_remount, timeout_ms, ephemeral, readonly)\u001b[0m\n\u001b[1;32m    275\u001b[0m             \u001b[0;34m'https://research.google.com/colaboratory/faq.html#drive-timeout'\u001b[0m\u001b[0;34m\u001b[0m\u001b[0;34m\u001b[0m\u001b[0m\n\u001b[1;32m    276\u001b[0m         )\n\u001b[0;32m--> 277\u001b[0;31m       \u001b[0;32mraise\u001b[0m \u001b[0mValueError\u001b[0m\u001b[0;34m(\u001b[0m\u001b[0;34m'mount failed'\u001b[0m \u001b[0;34m+\u001b[0m \u001b[0mextra_reason\u001b[0m\u001b[0;34m)\u001b[0m\u001b[0;34m\u001b[0m\u001b[0;34m\u001b[0m\u001b[0m\n\u001b[0m\u001b[1;32m    278\u001b[0m     \u001b[0;32melif\u001b[0m \u001b[0mcase\u001b[0m \u001b[0;34m==\u001b[0m \u001b[0;36m4\u001b[0m\u001b[0;34m:\u001b[0m\u001b[0;34m\u001b[0m\u001b[0;34m\u001b[0m\u001b[0m\n\u001b[1;32m    279\u001b[0m       \u001b[0;31m# Terminate the DriveFS binary before killing bash.\u001b[0m\u001b[0;34m\u001b[0m\u001b[0;34m\u001b[0m\u001b[0m\n",
            "\u001b[0;31mValueError\u001b[0m: mount failed"
          ]
        }
      ],
      "source": [
        "from google.colab import drive\n",
        "drive.mount('/content/drive')"
      ]
    },
    {
      "cell_type": "markdown",
      "metadata": {
        "id": "QAORWe0O6O22"
      },
      "source": [
        "# **2. INSPECT DATASET**"
      ]
    },
    {
      "cell_type": "markdown",
      "metadata": {
        "id": "0LLM6UrssZ_r"
      },
      "source": [
        "**Listing and Sorting Folders in a Dataset Directory**"
      ]
    },
    {
      "cell_type": "code",
      "execution_count": null,
      "metadata": {
        "colab": {
          "background_save": true
        },
        "id": "Zs0EUcSglknK"
      },
      "outputs": [],
      "source": [
        "path = '/content/drive/MyDrive/DATASET'\n",
        "folders = sorted(os.listdir(path))\n",
        "print(folders)\n",
        "\n",
        "catagories = folders"
      ]
    },
    {
      "cell_type": "markdown",
      "metadata": {
        "id": "3w7-7Z5jsjxg"
      },
      "source": [
        "**Collecting Disease Count Data for Plants**"
      ]
    },
    {
      "cell_type": "code",
      "execution_count": null,
      "metadata": {
        "colab": {
          "background_save": true
        },
        "id": "rbObC2TwmCwm"
      },
      "outputs": [],
      "source": [
        "subfolders = []\n",
        "for folder in folders:\n",
        "    subfolders.append(os.listdir(os.path.join(path, folder)))\n",
        "\n",
        "data = []\n",
        "for i in range(len(folders)):\n",
        "    for j in range(len(subfolders[i])):\n",
        "        count = len(os.listdir(os.path.join(path, folders[i], subfolders[i][j])))\n",
        "        data.append({'Plant': folders[i], 'Disease': subfolders[i][j], 'Count': count})\n",
        "\n",
        "\n",
        "df = pd.DataFrame(data)\n",
        "# Menampilkan semua baris\n",
        "pd.set_option('display.max_rows', None)\n",
        "\n",
        "print(df)"
      ]
    },
    {
      "cell_type": "markdown",
      "metadata": {
        "id": "z2aqnwhG6Thz"
      },
      "source": [
        "It can be seen that the disease data distribution is uneven, with some having too few and others having too many."
      ]
    },
    {
      "cell_type": "markdown",
      "metadata": {
        "id": "icu7MJ-PLi34"
      },
      "source": [
        "**Visualizing Disease Case Counts for Each Plant Using Bar Charts**"
      ]
    },
    {
      "cell_type": "code",
      "execution_count": null,
      "metadata": {
        "colab": {
          "background_save": true
        },
        "collapsed": true,
        "id": "pMNUtUJc6QZw"
      },
      "outputs": [],
      "source": [
        "df = pd.DataFrame(data)\n",
        "\n",
        "# Membuat grafik batang untuk setiap tanaman\n",
        "plants = df['Plant'].unique()\n",
        "\n",
        "for plant in plants:\n",
        "    # Filter data untuk tanaman tertentu\n",
        "    plant_data = df[df['Plant'] == plant]\n",
        "\n",
        "    # Membuat grafik batang\n",
        "    plt.figure(figsize=(10, 6))\n",
        "    plt.bar(plant_data['Disease'], plant_data['Count'], color='green')\n",
        "    plt.title(f'Jumlah Kasus Penyakit untuk {plant}')\n",
        "    plt.xlabel('Penyakit')\n",
        "    plt.ylabel('Jumlah Kasus')\n",
        "    plt.xticks(rotation=45, ha='right')\n",
        "    plt.grid(axis='y', linestyle='--', alpha=0.7)\n",
        "    plt.tight_layout()\n",
        "    plt.show()"
      ]
    },
    {
      "cell_type": "code",
      "execution_count": null,
      "metadata": {
        "colab": {
          "background_save": true
        },
        "id": "AOZweeeOfx5-"
      },
      "outputs": [],
      "source": [
        "fig = px.treemap(df, path=['Plant', 'Disease'], values='Count', title='Plant and Disease Distribution')\n",
        "fig.show()"
      ]
    },
    {
      "cell_type": "markdown",
      "metadata": {
        "id": "4gKQEAbGHROI"
      },
      "source": [
        "**Calculating Disease Counts and Percentages with DataFrame Aggregation**"
      ]
    },
    {
      "cell_type": "code",
      "execution_count": null,
      "metadata": {
        "colab": {
          "background_save": true
        },
        "id": "q4X6qKPv8g_x"
      },
      "outputs": [],
      "source": [
        "# Calculate the total count for each disease\n",
        "disease_counts = df.groupby('Disease')['Count'].sum()\n",
        "\n",
        "# Calculate the percentage of each disease\n",
        "disease_percentages = (disease_counts / disease_counts.sum()) * 100\n",
        "\n",
        "# Create a DataFrame with disease counts and percentages\n",
        "disease_balance = pd.DataFrame({'Count': disease_counts, 'Percentage': disease_percentages})\n",
        "\n",
        "# Sort the DataFrame by count in descending order\n",
        "disease_balance = disease_balance.sort_values('Count', ascending=False)\n",
        "\n",
        "disease_balance"
      ]
    },
    {
      "cell_type": "markdown",
      "metadata": {
        "id": "aLJqPdaSsUPY"
      },
      "source": [
        "**Descriptive Statistics of the Dataset**"
      ]
    },
    {
      "cell_type": "code",
      "execution_count": null,
      "metadata": {
        "colab": {
          "background_save": true
        },
        "id": "jJG0NCDcOTEX"
      },
      "outputs": [],
      "source": [
        "df.describe()"
      ]
    },
    {
      "cell_type": "markdown",
      "metadata": {
        "id": "ELvLG-qmN8kw"
      },
      "source": [
        "#**3. DATA CLEANING**"
      ]
    },
    {
      "cell_type": "markdown",
      "metadata": {
        "id": "SwzVqbKCICPw"
      },
      "source": [
        "**Clean and Organize Images by Limiting and Copying by Category**"
      ]
    },
    {
      "cell_type": "code",
      "execution_count": null,
      "metadata": {
        "colab": {
          "background_save": true
        },
        "id": "I6Ce72lMWUOk"
      },
      "outputs": [],
      "source": [
        "def reduce_and_copy_images(source_dir, target_dir, max_images):\n",
        "    \"\"\"\n",
        "    Fungsi untuk membatasi jumlah gambar di setiap subfolder dan menyalin hasilnya ke folder baru.\n",
        "    Jika jumlah gambar lebih dari max_images, gambar akan dipilih secara acak.\n",
        "    \"\"\"\n",
        "    # Membuat folder target jika belum ada\n",
        "    if not os.path.exists(target_dir):\n",
        "        os.makedirs(target_dir)\n",
        "\n",
        "    # Loop melalui setiap folder tanaman di source_dir\n",
        "    for plant in os.listdir(source_dir):\n",
        "        plant_path = os.path.join(source_dir, plant)\n",
        "\n",
        "        # Pastikan hanya memproses folder\n",
        "        if os.path.isdir(plant_path):\n",
        "            # Loop melalui setiap subfolder penyakit di dalam folder tanaman\n",
        "            for disease in os.listdir(plant_path):\n",
        "                disease_path = os.path.join(plant_path, disease)\n",
        "\n",
        "                if os.path.isdir(disease_path):\n",
        "                    files = os.listdir(disease_path)\n",
        "\n",
        "                    # Membuat folder tujuan untuk penyakit di dalam folder tanaman\n",
        "                    target_plant_path = os.path.join(target_dir, plant)\n",
        "                    target_disease_path = os.path.join(target_plant_path, disease)\n",
        "                    os.makedirs(target_disease_path, exist_ok=True)\n",
        "\n",
        "                    # Jika jumlah file lebih dari max_images, kurangi jumlahnya\n",
        "                    if len(files) > max_images:\n",
        "                        print(f\"Reducing '{plant}/{disease}' from {len(files)} to {max_images} images.\")\n",
        "                        selected_files = random.sample(files, max_images)\n",
        "                    else:\n",
        "                        selected_files = files\n",
        "\n",
        "                    # Salin file yang terpilih ke folder tujuan\n",
        "                    for file in selected_files:\n",
        "                        source_file = os.path.join(disease_path, file)\n",
        "                        target_file = os.path.join(target_disease_path, file)\n",
        "                        shutil.copy(source_file, target_file)\n",
        "                    print(f\"Copied {len(selected_files)} images to '{target_disease_path}'\")\n",
        "                else:\n",
        "                    print(f\"'{disease_path}' is not a folder.\")\n",
        "\n",
        "# Contoh penggunaan\n",
        "source_directory = '/content/drive/MyDrive/DATASET'\n",
        "target_directory = '/content/PlantDisease_Dataset'\n",
        "\n",
        "max_images = 160\n",
        "\n",
        "reduce_and_copy_images(source_directory, target_directory, max_images)"
      ]
    },
    {
      "cell_type": "markdown",
      "metadata": {
        "id": "MF5el4HfITgo"
      },
      "source": [
        "**Visualization of Plant and Disease Distribution Using Treemap**"
      ]
    },
    {
      "cell_type": "code",
      "execution_count": null,
      "metadata": {
        "colab": {
          "background_save": true
        },
        "id": "ytQt6PkmmZYP"
      },
      "outputs": [],
      "source": [
        "reduced_path = '/content/PlantDisease_Dataset'\n",
        "\n",
        "# Mendapatkan daftar folder tanaman\n",
        "folders = sorted(os.listdir(reduced_path))\n",
        "\n",
        "# Membuat list subfolder (penyakit) dan menghitung jumlah gambar\n",
        "subfolders = []\n",
        "for folder in folders:\n",
        "    subfolders.append(os.listdir(os.path.join(reduced_path, folder)))\n",
        "\n",
        "# Membuat DataFrame dari data yang dikumpulkan\n",
        "data = []\n",
        "for i in range(len(folders)):\n",
        "    for j in range(len(subfolders[i])):\n",
        "        count = len(os.listdir(os.path.join(reduced_path, folders[i], subfolders[i][j])))\n",
        "        data.append({'Plant': folders[i], 'Disease': subfolders[i][j], 'Count': count})\n",
        "\n",
        "# Membuat DataFrame\n",
        "dt = pd.DataFrame(data)\n",
        "\n",
        "fig = px.treemap(dt, path=['Plant', 'Disease'], values='Count', title='Plant and Disease Distribution')\n",
        "fig.show()"
      ]
    },
    {
      "cell_type": "markdown",
      "metadata": {
        "id": "IVvwj0bEIbsr"
      },
      "source": [
        "**Descriptive Statistics of Disease Data with DataFrame Describe Function**"
      ]
    },
    {
      "cell_type": "code",
      "execution_count": null,
      "metadata": {
        "colab": {
          "background_save": true
        },
        "id": "fUr6BSlXnOrs"
      },
      "outputs": [],
      "source": [
        "dt.describe()"
      ]
    },
    {
      "cell_type": "markdown",
      "metadata": {
        "id": "4WFyi25LtQbt"
      },
      "source": [
        "**Renaming Image Files in a Plant Disease Dataset with a Consistent Format**"
      ]
    },
    {
      "cell_type": "code",
      "execution_count": null,
      "metadata": {
        "colab": {
          "background_save": true
        },
        "id": "tnxfwVZbvROX"
      },
      "outputs": [],
      "source": [
        "#rename image file with format Plant_Disease_ImageNumber.jpg and make all same format file\n",
        "def rename_images(dataset_path):\n",
        "    # Loop through each plant folder\n",
        "    for plant in os.listdir(dataset_path):\n",
        "        plant_path = os.path.join(dataset_path, plant)\n",
        "        # Ensure we only process folders\n",
        "        if os.path.isdir(plant_path):\n",
        "            # Loop through each disease subfolder in the plant folder\n",
        "            for disease in os.listdir(plant_path):\n",
        "                disease_path = os.path.join(plant_path, disease)\n",
        "                if os.path.isdir(disease_path):\n",
        "                    # Get a list of image files in the subfolder\n",
        "                    image_files = [f for f in os.listdir(disease_path) if f.lower().endswith(('.jpg', '.jpeg', '.png', '.bmp', '.gif'))]\n",
        "                    # Rename the image files\n",
        "                    for i, image_file in enumerate(image_files):\n",
        "                        old_path = os.path.join(disease_path, image_file)\n",
        "                        new_name = f\"{plant}_{disease}_{i+1}.jpg\"\n",
        "                        new_path = os.path.join(disease_path, new_name)\n",
        "                        os.rename(old_path, new_path)\n",
        "                        print(f\"Renamed '{image_file}' to '{new_name}'\")\n",
        "\n",
        "# Define the dataset path\n",
        "dataset_path = '/content/PlantDisease_Dataset'\n",
        "\n",
        "# Rename the images\n",
        "rename_images(dataset_path)"
      ]
    },
    {
      "cell_type": "markdown",
      "metadata": {
        "id": "QMVQ59notUtE"
      },
      "source": [
        "**Renaming Subfolders in Plant Disease Dataset to a Consistent Format**"
      ]
    },
    {
      "cell_type": "code",
      "execution_count": null,
      "metadata": {
        "colab": {
          "background_save": true
        },
        "id": "0Hp_BaTxvj_J"
      },
      "outputs": [],
      "source": [
        "#rename subfolder with format Plant_Disease\n",
        "def rename_folders(dataset_path):\n",
        "    # Loop through each plant folder\n",
        "    for plant in os.listdir(dataset_path):\n",
        "        plant_path = os.path.join(dataset_path, plant)\n",
        "        # Ensure we only process folders\n",
        "        if os.path.isdir(plant_path):\n",
        "            # Loop through each disease subfolder in the plant folder\n",
        "            for disease in os.listdir(plant_path):\n",
        "                disease_path = os.path.join(plant_path, disease)\n",
        "                if os.path.isdir(disease_path):\n",
        "                    new_name = f\"{plant}_{disease}\"\n",
        "                    new_path = os.path.join(plant_path, new_name)\n",
        "                    os.rename(disease_path, new_path)\n",
        "                    print(f\"Renamed '{disease}' to '{new_name}'\")\n",
        "\n",
        "# Define the dataset path\n",
        "dataset_path = '/content/PlantDisease_Dataset'\n",
        "\n",
        "# Rename the folders\n",
        "rename_folders(dataset_path)"
      ]
    },
    {
      "cell_type": "markdown",
      "metadata": {
        "id": "u8UYROKXtpho"
      },
      "source": [
        "**Splitting Plant Disease Dataset into Training and Testing Sets with a Specified Ratio**"
      ]
    },
    {
      "cell_type": "code",
      "execution_count": null,
      "metadata": {
        "colab": {
          "background_save": true
        },
        "id": "yzJ3WUkbv4WD"
      },
      "outputs": [],
      "source": [
        "import os\n",
        "import shutil\n",
        "import random\n",
        "\n",
        "def split_dataset(dataset_path, training_path, testing_path, split_ratio=0.8):\n",
        "    \"\"\"Splits the dataset into training and testing sets.\"\"\"\n",
        "\n",
        "    os.makedirs(training_path, exist_ok=True)\n",
        "    os.makedirs(testing_path, exist_ok=True)\n",
        "\n",
        "    for plant in os.listdir(dataset_path):\n",
        "        plant_path = os.path.join(dataset_path, plant)\n",
        "        if os.path.isdir(plant_path):\n",
        "            for disease in os.listdir(plant_path):\n",
        "                disease_path = os.path.join(plant_path, disease)\n",
        "                if os.path.isdir(disease_path):\n",
        "                    image_files = [f for f in os.listdir(disease_path) if f.lower().endswith(('.jpg', '.jpeg', '.png', '.bmp', '.gif'))]\n",
        "                    random.shuffle(image_files)  # Shuffle the image files before splitting\n",
        "                    split_index = int(len(image_files) * split_ratio)\n",
        "                    training_files = image_files[:split_index]\n",
        "                    testing_files = image_files[split_index:]\n",
        "\n",
        "                    os.makedirs(os.path.join(training_path, plant, disease), exist_ok=True)\n",
        "                    os.makedirs(os.path.join(testing_path, plant, disease), exist_ok=True)\n",
        "\n",
        "                    for file in training_files:\n",
        "                        source_file = os.path.join(disease_path, file)\n",
        "                        target_file = os.path.join(training_path, plant, disease, file)\n",
        "                        try:\n",
        "                            shutil.copy2(source_file, target_file) #removed exist_ok\n",
        "                        except shutil.Error as e: #handle errors for existing file. This avoids overwrite errors.\n",
        "                            print(f\"Error copying {file}: {e}\")\n",
        "\n",
        "                    for file in testing_files:\n",
        "                        source_file = os.path.join(disease_path, file)\n",
        "                        target_file = os.path.join(testing_path, plant, disease, file)\n",
        "                        try:\n",
        "                            shutil.copy2(source_file, target_file) #removed exist_ok\n",
        "                        except shutil.Error as e: #handle errors for existing file\n",
        "                            print(f\"Error copying {file}: {e}\")\n",
        "\n",
        "                    print(f\"Split '{plant}/{disease}' into {len(training_files)} training files and {len(testing_files)} testing images\")\n",
        "\n",
        "\n",
        "\n",
        "# Define the dataset paths - CHANGE THESE TO YOUR ACTUAL PATHS!!\n",
        "dataset_path = '/content/PlantDisease_Dataset' #CHANGE PATHS!\n",
        "training_path = '/content/Plant_Disease_Dataset/train' #CHANGE PATHS!\n",
        "testing_path = '/content/Plant_Disease_Dataset/test'   #CHANGE PATHS!\n",
        "\n",
        "\n",
        "split_ratio = 0.8\n",
        "split_dataset(dataset_path, training_path, testing_path, split_ratio=split_ratio)"
      ]
    },
    {
      "cell_type": "markdown",
      "metadata": {
        "id": "O-EEdmbLtzwF"
      },
      "source": [
        "**Visualizing Plant and Disease Distribution Using a Treemap**"
      ]
    },
    {
      "cell_type": "code",
      "execution_count": null,
      "metadata": {
        "colab": {
          "background_save": true
        },
        "id": "h7khNhodwKvr"
      },
      "outputs": [],
      "source": [
        "fixed_path = '/content/Plant_Disease_Dataset/train'\n",
        "# Mendapatkan daftar folder tanaman\n",
        "folders = sorted(os.listdir(fixed_path))\n",
        "\n",
        "# Membuat list subfolder (penyakit) dan menghitung jumlah gambar\n",
        "subfolders = []\n",
        "for folder in folders:\n",
        "    subfolders.append(os.listdir(os.path.join(fixed_path, folder)))\n",
        "\n",
        "# Membuat DataFrame dari data yang dikumpulkan\n",
        "data = []\n",
        "for i in range(len(folders)):\n",
        "    for j in range(len(subfolders[i])):\n",
        "        count = len(os.listdir(os.path.join(fixed_path, folders[i], subfolders[i][j])))\n",
        "        data.append({'Plant': folders[i], 'Disease': subfolders[i][j], 'Count': count})\n",
        "\n",
        "# Membuat DataFrame\n",
        "dt = pd.DataFrame(data)\n",
        "\n",
        "fig = px.treemap(dt, path=['Plant', 'Disease'], values='Count', title='Plant and Disease Distribution')\n",
        "fig.show()"
      ]
    },
    {
      "cell_type": "markdown",
      "metadata": {
        "id": "Xt5XZ4s_uVob"
      },
      "source": [
        "**Listing and Counting Images in Plant and Disease Subfolders**"
      ]
    },
    {
      "cell_type": "code",
      "execution_count": null,
      "metadata": {
        "colab": {
          "background_save": true
        },
        "id": "rjig34vQ-RQp"
      },
      "outputs": [],
      "source": [
        "subfolders = []\n",
        "for folder in folders:\n",
        "    subfolders.append(os.listdir(os.path.join(fixed_path, folder)))\n",
        "\n",
        "data = []\n",
        "for i in range(len(folders)):\n",
        "    for j in range(len(subfolders[i])):\n",
        "        count = len(os.listdir(os.path.join(fixed_path, folders[i], subfolders[i][j])))\n",
        "        data.append({'Plant': folders[i], 'Disease': subfolders[i][j], 'Count': count})\n",
        "\n",
        "\n",
        "df = pd.DataFrame(data)\n",
        "# Menampilkan semua baris\n",
        "pd.set_option('display.max_rows', None)\n",
        "\n",
        "print(df)"
      ]
    },
    {
      "cell_type": "markdown",
      "metadata": {
        "id": "RzwEbKZrukg0"
      },
      "source": [
        "**Resizing Images to 224x224 Pixels and Converting to RGB Format**"
      ]
    },
    {
      "cell_type": "code",
      "execution_count": null,
      "metadata": {
        "colab": {
          "background_save": true
        },
        "id": "3f7WEjJlwQJA"
      },
      "outputs": [],
      "source": [
        "#resize image to 224x224 pixel and convert to RGB format\n",
        "def resize_images(dataset_path, target_size=(224, 224)):\n",
        "    \"\"\"Resizes images in the dataset to the specified target size.\"\"\"\n",
        "    for root, _, files in os.walk(dataset_path):\n",
        "        for file in files:\n",
        "            if file.lower().endswith(('.jpg', '.jpeg', '.png', '.bmp', '.gif')):\n",
        "                file_path = os.path.join(root, file)\n",
        "                try:\n",
        "                    with Image.open(file_path) as img:\n",
        "                        # save all image in jpg format\n",
        "                        img = img.convert('RGB')\n",
        "                        img = img.resize(target_size)\n",
        "                        img.save(file_path, 'JPEG')\n",
        "                        print(f\"Resized '{file_path}' to {target_size}\")\n",
        "                except Exception as e:\n",
        "                    print(f\"Error processing '{file_path}': {e}\")\n",
        "\n",
        "\n",
        "# Define the dataset path\n",
        "dataset_path = '/content/Plant_Disease_Dataset/train'  #CHANGE PATHS!\n",
        "\n",
        "# Resize the images\n",
        "resize_images(dataset_path)"
      ]
    },
    {
      "cell_type": "markdown",
      "metadata": {
        "id": "FYU4HuYkuwrM"
      },
      "source": [
        "**Describing the Dataset: Counting Plants, Diseases, and Images**"
      ]
    },
    {
      "cell_type": "code",
      "execution_count": null,
      "metadata": {
        "colab": {
          "background_save": true
        },
        "id": "wkOieK6TwdVl"
      },
      "outputs": [],
      "source": [
        "#describe the dataset\n",
        "def describe_dataset(dataset_path):\n",
        "    \"\"\"Describes the dataset by counting the number of plants, diseases, and images.\"\"\"\n",
        "    plants = os.listdir(dataset_path)\n",
        "    num_plants = len(plants)\n",
        "    num_diseases = 0\n",
        "    num_images = 0\n",
        "    for plant in plants:\n",
        "        plant_path = os.path.join(dataset_path, plant)\n",
        "        if os.path.isdir(plant_path):\n",
        "            diseases = os.listdir(plant_path)\n",
        "            num_diseases += len(diseases)\n",
        "            for disease in diseases:\n",
        "                disease_path = os.path.join(plant_path, disease)\n",
        "                if os.path.isdir(disease_path):\n",
        "                    images = [f for f in os.listdir(disease_path) if f.lower().endswith(('.jpg', '.jpeg', '.png', '.bmp', '.gif'))]\n",
        "                    num_images += len(images)\n",
        "    print(f\"Dataset contains {num_plants} plants, {num_diseases} diseases, and {num_images} images.\")\n",
        "\n",
        "# Define the dataset path\n",
        "dataset_path = '/content/Plant_Disease_Dataset/train' #CHANGE PATHS!\n",
        "\n",
        "# Describe the dataset\n",
        "describe_dataset(dataset_path)"
      ]
    },
    {
      "cell_type": "markdown",
      "metadata": {
        "id": "rKHX_KlHu6pa"
      },
      "source": [
        "**Importing Libraries for Image Processing and Deep Learning with TensorFlow**"
      ]
    },
    {
      "cell_type": "code",
      "execution_count": null,
      "metadata": {
        "colab": {
          "background_save": true
        },
        "id": "a7E7CJbewlZb"
      },
      "outputs": [],
      "source": [
        "import tensorflow as tf\n",
        "from tensorflow import keras\n",
        "from tensorflow.keras.preprocessing.image import ImageDataGenerator\n",
        "from tensorflow.keras.preprocessing import image\n",
        "from tensorflow.keras import layers\n",
        "import os\n",
        "import numpy as np\n",
        "import matplotlib.pyplot as plt\n",
        "import matplotlib.image as implt\n",
        "import seaborn as sns\n",
        "sns.set_style(\"whitegrid\")"
      ]
    },
    {
      "cell_type": "markdown",
      "metadata": {
        "id": "kgT7ouGYvDaR"
      },
      "source": [
        "**Visualizing the Number of Training Images per Category**"
      ]
    },
    {
      "cell_type": "code",
      "execution_count": null,
      "metadata": {
        "colab": {
          "background_save": true
        },
        "id": "FdCw0Nntwm86"
      },
      "outputs": [],
      "source": [
        "category_names = os.listdir(training_path) # output: ['humans', 'horses']\n",
        "nb_categories = len(category_names) # output: 2\n",
        "train_images = []\n",
        "\n",
        "for category in category_names:\n",
        "    folder = training_path + \"/\" + category\n",
        "    train_images.append(len(os.listdir(folder)))\n",
        "\n",
        "sns.barplot( x=train_images, y=category_names).set_title(\"Number Of Training Images Per Category\");"
      ]
    },
    {
      "cell_type": "markdown",
      "metadata": {
        "id": "av5k4w6gvRdq"
      },
      "source": [
        "**Visualizing the Number of Testing Images per Category**"
      ]
    },
    {
      "cell_type": "code",
      "execution_count": null,
      "metadata": {
        "colab": {
          "background_save": true
        },
        "id": "P95MeKLFww7V"
      },
      "outputs": [],
      "source": [
        "val_images = []\n",
        "for category in category_names:\n",
        "    folder = testing_path + \"/\" + category\n",
        "    val_images.append(len(os.listdir(folder)))\n",
        "\n",
        "sns.barplot(x=train_images, y=category_names).set_title(\"Number Of Testing Images Per Category\");"
      ]
    },
    {
      "cell_type": "markdown",
      "metadata": {
        "id": "kTnYuwVcvtmx"
      },
      "source": [
        "**Loading and Displaying Training Images with ImageDataGenerator**"
      ]
    },
    {
      "cell_type": "code",
      "execution_count": null,
      "metadata": {
        "colab": {
          "background_save": true
        },
        "id": "j0hnfvsIw19a"
      },
      "outputs": [],
      "source": [
        "# Define the paths to the training images\n",
        "training_path = '/content/Plant_Disease_Dataset/train'  #CHANGE PATHS!\n",
        "\n",
        "# Read the images from the training path\n",
        "train_data_gen = ImageDataGenerator(rescale=1./255, validation_split=0.2) # Split the data into training and validation sets\n",
        "train_generator = train_data_gen.flow_from_directory(training_path, target_size=(224, 224), class_mode='categorical', subset='training')\n",
        "\n",
        "# Plot the images\n",
        "plt.figure(figsize=(12, 12))\n",
        "for i in range(9):\n",
        "    plt.subplot(3, 3, i + 1)\n",
        "    for X_batch, Y_batch in train_generator:\n",
        "        image = X_batch[0]\n",
        "        plt.imshow(image)\n",
        "        break\n",
        "plt.tight_layout()\n",
        "plt.show()\n"
      ]
    },
    {
      "cell_type": "markdown",
      "metadata": {
        "id": "2Zu5WEFxcYOb"
      },
      "source": [
        "#**4. AUGMENTATION**"
      ]
    },
    {
      "cell_type": "markdown",
      "metadata": {
        "id": "5q2S5Xd2wCr3"
      },
      "source": [
        "**Augmenting Images in Plant Disease Dataset with Data Augmentation Techniques**"
      ]
    },
    {
      "cell_type": "code",
      "execution_count": null,
      "metadata": {
        "colab": {
          "background_save": true
        },
        "id": "bit7L8RJXxaw"
      },
      "outputs": [],
      "source": [
        "import os\n",
        "from tensorflow.keras.preprocessing.image import ImageDataGenerator, img_to_array, load_img, array_to_img\n",
        "import matplotlib.pyplot as plt\n",
        "\n",
        "# Tentukan path ke dataset\n",
        "dataset_dir = './Plant_Disease_Dataset/train'\n",
        "output_dir = './Plant_Disease_Dataset/augmented'\n",
        "\n",
        "# Buat folder output jika belum ada\n",
        "if not os.path.exists(output_dir):\n",
        "    os.makedirs(output_dir)\n",
        "\n",
        "# Membuat ImageDataGenerator dengan augmentasi\n",
        "datagen = ImageDataGenerator(\n",
        "    rotation_range=30,\n",
        "    width_shift_range=0.1,\n",
        "    height_shift_range=0.1,\n",
        "    shear_range=0.2,\n",
        "    zoom_range=0.2,\n",
        "    horizontal_flip=True,\n",
        "    fill_mode='nearest'\n",
        ")\n",
        "\n",
        "# Loop melalui setiap folder dalam dataset\n",
        "for plant in os.listdir(dataset_dir):\n",
        "    plant_path = os.path.join(dataset_dir, plant)\n",
        "    if os.path.isdir(plant_path):\n",
        "        for disease in os.listdir(plant_path):\n",
        "            disease_path = os.path.join(plant_path, disease)\n",
        "            output_path = os.path.join(output_dir, plant, disease)\n",
        "\n",
        "            # Buat folder output untuk penyakit jika belum ada\n",
        "            if not os.path.exists(output_path):\n",
        "                os.makedirs(output_path)\n",
        "\n",
        "            # Loop melalui semua file gambar di folder penyakit\n",
        "            for img_file in os.listdir(disease_path):\n",
        "                img_path = os.path.join(disease_path, img_file)\n",
        "                try:\n",
        "                    # Baca gambar\n",
        "                    img = load_img(img_path)\n",
        "                    x = img_to_array(img)\n",
        "                    x = x.reshape((1,) + x.shape)\n",
        "\n",
        "                    # Buat dan simpan gambar augmentasi\n",
        "                    i = 0\n",
        "                    for batch in datagen.flow(x, batch_size=1, save_to_dir=output_path, save_prefix='aug', save_format='jpeg'):\n",
        "                        i += 1\n",
        "                        if i > 5:  # Buat 5 gambar augmentasi per gambar asli\n",
        "                            break\n",
        "                except Exception as e:\n",
        "                    print(f\"Error processing {img_file}: {e}\")\n",
        "\n",
        "print(\"Proses augmentasi selesai!\")\n"
      ]
    },
    {
      "cell_type": "markdown",
      "metadata": {
        "id": "osk8RM8wwXxh"
      },
      "source": [
        "**Renaming Image Files in Plant Disease Dataset to Standard Format**"
      ]
    },
    {
      "cell_type": "code",
      "execution_count": null,
      "metadata": {
        "colab": {
          "background_save": true
        },
        "id": "mhDCmVLSb5so"
      },
      "outputs": [],
      "source": [
        "#rename image file with format Plant_Disease_ImageNumber.jpg and make all same format file\n",
        "def rename_images(dataset_path):\n",
        "    # Loop through each plant folder\n",
        "    for plant in os.listdir(dataset_path):\n",
        "        plant_path = os.path.join(dataset_path, plant)\n",
        "        # Ensure we only process folders\n",
        "        if os.path.isdir(plant_path):\n",
        "            # Loop through each disease subfolder in the plant folder\n",
        "            for disease in os.listdir(plant_path):\n",
        "                disease_path = os.path.join(plant_path, disease)\n",
        "                if os.path.isdir(disease_path):\n",
        "                    # Get a list of image files in the subfolder\n",
        "                    image_files = [f for f in os.listdir(disease_path) if f.lower().endswith(('.jpg', '.jpeg', '.png', '.bmp', '.gif'))]\n",
        "                    # Rename the image files\n",
        "                    for i, image_file in enumerate(image_files):\n",
        "                        old_path = os.path.join(disease_path, image_file)\n",
        "                        new_name = f\"{disease}_{i+1}.jpg\"\n",
        "                        new_path = os.path.join(disease_path, new_name)\n",
        "                        os.rename(old_path, new_path)\n",
        "                        print(f\"Renamed '{image_file}' to '{new_name}'\")\n",
        "\n",
        "# Define the dataset path\n",
        "dataset_path = '/content/Plant_Disease_Dataset/augmented'\n",
        "\n",
        "# Rename the images\n",
        "rename_images(dataset_path)"
      ]
    },
    {
      "cell_type": "markdown",
      "metadata": {
        "id": "GX5zHxjQwlYD"
      },
      "source": [
        "**Counting Augmented Images in Plant Disease Dataset**"
      ]
    },
    {
      "cell_type": "code",
      "execution_count": null,
      "metadata": {
        "colab": {
          "background_save": true
        },
        "id": "31Ymz8yHaLy5"
      },
      "outputs": [],
      "source": [
        "augmented_path = '/content/Plant_Disease_Dataset/augmented'\n",
        "subfolders = []\n",
        "for folder in folders:\n",
        "    subfolders.append(os.listdir(os.path.join(augmented_path, folder)))\n",
        "\n",
        "data = []\n",
        "for i in range(len(folders)):\n",
        "    for j in range(len(subfolders[i])):\n",
        "        count = len(os.listdir(os.path.join(augmented_path, folders[i], subfolders[i][j])))\n",
        "        data.append({'Plant': folders[i], 'Disease': subfolders[i][j], 'Count': count})\n",
        "\n",
        "\n",
        "df = pd.DataFrame(data)\n",
        "# Menampilkan semua baris\n",
        "pd.set_option('display.max_rows', None)\n",
        "\n",
        "print(df)"
      ]
    },
    {
      "cell_type": "markdown",
      "metadata": {
        "id": "AlnR3pymxFtT"
      },
      "source": [
        "**Display Sample Image for Each Disease in Plants**"
      ]
    },
    {
      "cell_type": "code",
      "execution_count": null,
      "metadata": {
        "colab": {
          "background_save": true
        },
        "id": "Nu1SaNLWUr8t"
      },
      "outputs": [],
      "source": [
        "import os\n",
        "import matplotlib.pyplot as plt\n",
        "from PIL import Image\n",
        "\n",
        "def display_one_image_per_disease(dataset_path):\n",
        "    \"\"\"\n",
        "    Menampilkan 1 sampel gambar dari setiap penyakit di semua tanaman dalam satu grid.\n",
        "    \"\"\"\n",
        "    # Membuat list semua gambar beserta informasi\n",
        "    images_info = []\n",
        "\n",
        "    # Loop melalui setiap folder tanaman\n",
        "    for plant in sorted(os.listdir(dataset_path)):\n",
        "        plant_path = os.path.join(dataset_path, plant)\n",
        "        if os.path.isdir(plant_path):\n",
        "            # Loop melalui setiap subfolder penyakit\n",
        "            for disease in sorted(os.listdir(plant_path)):\n",
        "                disease_path = os.path.join(plant_path, disease)\n",
        "                if os.path.isdir(disease_path):\n",
        "                    files = os.listdir(disease_path)\n",
        "\n",
        "                    # Pilih hanya 1 gambar dari kategori penyakit jika tersedia\n",
        "                    if files:\n",
        "                        sample_file = files[0]\n",
        "                        sample_file_path = os.path.join(disease_path, sample_file)\n",
        "                        images_info.append((plant, disease, sample_file_path))\n",
        "\n",
        "    # Menentukan ukuran grid (4 gambar per baris)\n",
        "    num_images = len(images_info)\n",
        "    num_columns = 4\n",
        "    num_rows = (num_images + num_columns - 1) // num_columns  # Hitung jumlah baris\n",
        "    fig, axes = plt.subplots(num_rows, num_columns, figsize=(16, 5 * num_rows))\n",
        "    fig.suptitle('Sampel Gambar dari Setiap Penyakit', fontsize=18, y=1.02)\n",
        "\n",
        "    # Jika hanya satu baris, ubah axes menjadi list\n",
        "    if num_rows == 1:\n",
        "        axes = [axes]\n",
        "\n",
        "    # Flatten axes array jika lebih dari 1 baris\n",
        "    axes = axes.flatten() if num_rows > 1 else axes\n",
        "\n",
        "    # Menampilkan gambar\n",
        "    for i, (plant, disease, file_path) in enumerate(images_info):\n",
        "        try:\n",
        "            # Buka gambar dan dapatkan ukurannya\n",
        "            with Image.open(file_path) as img:\n",
        "                width, height = img.size\n",
        "                axes[i].imshow(img)\n",
        "                axes[i].axis('off')\n",
        "                axes[i].set_title(f\"{plant} - {disease}\\n{width}x{height}\", fontsize=12, pad=15)\n",
        "        except Exception as e:\n",
        "            print(f\"Error processing file {file_path}: {e}\")\n",
        "\n",
        "    # Sembunyikan sumbu kosong jika jumlah gambar kurang dari grid\n",
        "    for j in range(i + 1, len(axes)):\n",
        "        axes[j].axis('off')\n",
        "\n",
        "    # Tambahkan padding agar judul terlihat lebih jelas\n",
        "    plt.tight_layout(rect=[0, 0, 1, 0.95], pad=3.0)\n",
        "    plt.show()\n",
        "\n",
        "# Jalankan fungsi\n",
        "reduced_path = '/content/Plant_Disease_Dataset/train'\n",
        "display_one_image_per_disease(reduced_path)\n"
      ]
    },
    {
      "cell_type": "markdown",
      "metadata": {
        "id": "WoAwccBYxWvd"
      },
      "source": [
        "**Display One Sample Image per Disease for Each Plant in a Grid**"
      ]
    },
    {
      "cell_type": "code",
      "execution_count": null,
      "metadata": {
        "colab": {
          "background_save": true
        },
        "id": "X5Pw6D6PbFxh"
      },
      "outputs": [],
      "source": [
        "import os\n",
        "import matplotlib.pyplot as plt\n",
        "from PIL import Image\n",
        "\n",
        "def display_one_image_per_disease(dataset_path):\n",
        "    \"\"\"\n",
        "    Menampilkan 1 sampel gambar dari setiap penyakit di semua tanaman dalam satu grid.\n",
        "    \"\"\"\n",
        "    # Membuat list semua gambar beserta informasi\n",
        "    images_info = []\n",
        "\n",
        "    # Loop melalui setiap folder tanaman\n",
        "    for plant in sorted(os.listdir(dataset_path)):\n",
        "        plant_path = os.path.join(dataset_path, plant)\n",
        "        if os.path.isdir(plant_path):\n",
        "            # Loop melalui setiap subfolder penyakit\n",
        "            for disease in sorted(os.listdir(plant_path)):\n",
        "                disease_path = os.path.join(plant_path, disease)\n",
        "                if os.path.isdir(disease_path):\n",
        "                    files = os.listdir(disease_path)\n",
        "\n",
        "                    # Pilih hanya 1 gambar dari kategori penyakit jika tersedia\n",
        "                    if files:\n",
        "                        sample_file = files[0]\n",
        "                        sample_file_path = os.path.join(disease_path, sample_file)\n",
        "                        images_info.append((plant, disease, sample_file_path))\n",
        "\n",
        "    # Menentukan ukuran grid (4 gambar per baris)\n",
        "    num_images = len(images_info)\n",
        "    num_columns = 4\n",
        "    num_rows = (num_images + num_columns - 1) // num_columns  # Hitung jumlah baris\n",
        "    fig, axes = plt.subplots(num_rows, num_columns, figsize=(16, 5 * num_rows))\n",
        "    fig.suptitle('Sampel Gambar dari Setiap Penyakit', fontsize=18, y=1.02)\n",
        "\n",
        "    # Jika hanya satu baris, ubah axes menjadi list\n",
        "    if num_rows == 1:\n",
        "        axes = [axes]\n",
        "\n",
        "    # Flatten axes array jika lebih dari 1 baris\n",
        "    axes = axes.flatten() if num_rows > 1 else axes\n",
        "\n",
        "    # Menampilkan gambar\n",
        "    for i, (plant, disease, file_path) in enumerate(images_info):\n",
        "        try:\n",
        "            # Buka gambar dan dapatkan ukurannya\n",
        "            with Image.open(file_path) as img:\n",
        "                width, height = img.size\n",
        "                axes[i].imshow(img)\n",
        "                axes[i].axis('off')\n",
        "                axes[i].set_title(f\"{plant} - {disease}\\n{width}x{height}\", fontsize=12, pad=15)\n",
        "        except Exception as e:\n",
        "            print(f\"Error processing file {file_path}: {e}\")\n",
        "\n",
        "    # Sembunyikan sumbu kosong jika jumlah gambar kurang dari grid\n",
        "    for j in range(i + 1, len(axes)):\n",
        "        axes[j].axis('off')\n",
        "\n",
        "    # Tambahkan padding agar judul terlihat lebih jelas\n",
        "    plt.tight_layout(rect=[0, 0, 1, 0.95], pad=3.0)\n",
        "    plt.show()\n",
        "\n",
        "# Jalankan fungsi\n",
        "reduced_path = '/content/Plant_Disease_Dataset/augmented'\n",
        "display_one_image_per_disease(reduced_path)\n"
      ]
    },
    {
      "cell_type": "code",
      "execution_count": null,
      "metadata": {
        "colab": {
          "background_save": true
        },
        "id": "Wma-h-vVAYu6"
      },
      "outputs": [],
      "source": [
        "import os\n",
        "\n",
        "# Path utama dataset\n",
        "DATASET_PATH = '/content/Plant_Disease_Dataset/augmented'  # Ganti dengan path dataset Anda\n",
        "\n",
        "def rename_subfolders(dataset_path):\n",
        "    \"\"\"\n",
        "    Mengubah nama sub-folder di dalam dataset menjadi format Plant_Disease secara otomatis.\n",
        "    \"\"\"\n",
        "    for plant in os.listdir(dataset_path):\n",
        "        plant_path = os.path.join(dataset_path, plant)\n",
        "\n",
        "        # Pastikan hanya memproses folder\n",
        "        if os.path.isdir(plant_path):\n",
        "            for disease in os.listdir(plant_path):\n",
        "                disease_path = os.path.join(plant_path, disease)\n",
        "\n",
        "                # Pastikan subfolder adalah direktori\n",
        "                if os.path.isdir(disease_path):\n",
        "                    # Format baru: Plant_Disease\n",
        "                    new_folder_name = f\"{plant}_{disease}\"\n",
        "                    new_folder_path = os.path.join(dataset_path, new_folder_name)\n",
        "\n",
        "                    # Rename subfolder\n",
        "                    os.rename(disease_path, new_folder_path)\n",
        "                    print(f\"Renamed: {disease_path} -> {new_folder_path}\")\n",
        "\n",
        "            # Hapus folder tanaman jika sudah kosong\n",
        "            try:\n",
        "                os.rmdir(plant_path)\n",
        "                print(f\"Removed empty folder: {plant_path}\")\n",
        "            except OSError as e:\n",
        "                print(f\"Could not remove folder: {plant_path}, {e}\")\n",
        "\n",
        "# Jalankan fungsi\n",
        "rename_subfolders(DATASET_PATH)\n"
      ]
    },
    {
      "cell_type": "code",
      "execution_count": null,
      "metadata": {
        "colab": {
          "background_save": true
        },
        "id": "v4JkhTK8AZvl"
      },
      "outputs": [],
      "source": [
        "import os\n",
        "\n",
        "# Path utama dataset\n",
        "DATASET_PATH = '/content/Plant_Disease_Dataset/test'  # Ganti dengan path dataset Anda\n",
        "\n",
        "def rename_subfolders(dataset_path):\n",
        "    \"\"\"\n",
        "    Mengubah nama sub-folder di dalam dataset menjadi format Plant_Disease secara otomatis.\n",
        "    \"\"\"\n",
        "    for plant in os.listdir(dataset_path):\n",
        "        plant_path = os.path.join(dataset_path, plant)\n",
        "\n",
        "        # Pastikan hanya memproses folder\n",
        "        if os.path.isdir(plant_path):\n",
        "            for disease in os.listdir(plant_path):\n",
        "                disease_path = os.path.join(plant_path, disease)\n",
        "\n",
        "                # Pastikan subfolder adalah direktori\n",
        "                if os.path.isdir(disease_path):\n",
        "                    # Format baru: Plant_Disease\n",
        "                    new_folder_name = f\"{plant}_{disease}\"\n",
        "                    new_folder_path = os.path.join(dataset_path, new_folder_name)\n",
        "\n",
        "                    # Rename subfolder\n",
        "                    os.rename(disease_path, new_folder_path)\n",
        "                    print(f\"Renamed: {disease_path} -> {new_folder_path}\")\n",
        "\n",
        "            # Hapus folder tanaman jika sudah kosong\n",
        "            try:\n",
        "                os.rmdir(plant_path)\n",
        "                print(f\"Removed empty folder: {plant_path}\")\n",
        "            except OSError as e:\n",
        "                print(f\"Could not remove folder: {plant_path}, {e}\")\n",
        "\n",
        "# Jalankan fungsi\n",
        "rename_subfolders(DATASET_PATH)\n"
      ]
    },
    {
      "cell_type": "markdown",
      "metadata": {
        "id": "-OiauBZZdHFM"
      },
      "source": [
        "\n",
        "#**5. MODELING**"
      ]
    },
    {
      "cell_type": "code",
      "execution_count": null,
      "metadata": {
        "colab": {
          "background_save": true
        },
        "id": "Z0pasrUeGu_2"
      },
      "outputs": [],
      "source": [
        "from tensorflow.keras.preprocessing.image import ImageDataGenerator\n",
        "from tensorflow.keras.models import Sequential\n",
        "from tensorflow.keras.layers import Conv2D, MaxPooling2D, Flatten, Dense, Dropout\n",
        "from tensorflow.keras.callbacks import EarlyStopping, ModelCheckpoint, ReduceLROnPlateau, Callback\n",
        "from tensorflow.keras.optimizers import Adam"
      ]
    },
    {
      "cell_type": "markdown",
      "metadata": {
        "id": "ejmiHgf5xr6h"
      },
      "source": [
        "**Define Dataset Paths and Configuration Parameters for Image Processing**"
      ]
    },
    {
      "cell_type": "code",
      "execution_count": null,
      "metadata": {
        "colab": {
          "background_save": true
        },
        "id": "YzSccPYnGxg3"
      },
      "outputs": [],
      "source": [
        "# --- Define Parameters ---\n",
        "TRAIN_PATH = \"/content/Plant_Disease_Dataset/augmented\"\n",
        "TEST_PATH = \"/content/Plant_Disease_Dataset/test\"\n",
        "IMG_SIZE = (224, 224)\n",
        "BATCH_SIZE = 32\n",
        "EPOCHS = 170\n",
        "LEARNING_RATE = 1e-3\n",
        "TARGET_ACCURACY = 0.98  # 98% Target Accuracy\n",
        "MODEL_SAVE_PATH = \"Train_23_nov_3.keras\"  # Ensure .keras extension"
      ]
    },
    {
      "cell_type": "markdown",
      "metadata": {
        "id": "lCdskUEux3mS"
      },
      "source": [
        "**CNN Model Training for Plant Disease Classification with Augmented Data**"
      ]
    },
    {
      "cell_type": "code",
      "execution_count": null,
      "metadata": {
        "colab": {
          "background_save": true
        },
        "id": "-CXrZsl4G0Vp"
      },
      "outputs": [],
      "source": [
        "# Automatically Extract Class Indices from Dataset Structure\n",
        "def get_class_indices(base_path):\n",
        "    subfolders = [os.path.join(root, d) for root, dirs, _ in os.walk(base_path) for d in dirs]\n",
        "    labels = [os.path.relpath(folder, base_path).replace(\"\\\\\", \"/\") for folder in subfolders]\n",
        "    return {label: idx for idx, label in enumerate(sorted(labels))}\n",
        "\n",
        "# Check Class Mapping\n",
        "class_indices = get_class_indices(TRAIN_PATH)\n",
        "print(f\"Class Indices Mapping: {class_indices}\")"
      ]
    },
    {
      "cell_type": "code",
      "execution_count": null,
      "metadata": {
        "colab": {
          "background_save": true
        },
        "id": "OBVCYZ1LG-Pe"
      },
      "outputs": [],
      "source": [
        "# --- Define CNN Model ---\n",
        "def create_cnn_model(input_shape, num_classes):\n",
        "    model = Sequential([\n",
        "        Conv2D(32, (3, 3), activation='relu', input_shape=input_shape),\n",
        "        MaxPooling2D((2, 2)),\n",
        "        Conv2D(64, (3, 3), activation='relu'),\n",
        "        MaxPooling2D((2, 2)),\n",
        "        Conv2D(128, (3, 3), activation='relu'),\n",
        "        MaxPooling2D((2, 2)),\n",
        "        Flatten(),\n",
        "        Dense(256, activation='relu'),\n",
        "        Dropout(0.5),\n",
        "        Dense(num_classes, activation='softmax')\n",
        "    ])\n",
        "    return model"
      ]
    },
    {
      "cell_type": "code",
      "execution_count": null,
      "metadata": {
        "colab": {
          "background_save": true
        },
        "id": "U3n9sVKpHKZu"
      },
      "outputs": [],
      "source": [
        "# --- Early Stopping by Accuracy Callback ---\n",
        "class EarlyStoppingByAccuracy(Callback):\n",
        "    def __init__(self, target_accuracy, model_save_path):\n",
        "        super(EarlyStoppingByAccuracy, self).__init__()\n",
        "        self.target_accuracy = target_accuracy\n",
        "        self.model_save_path = model_save_path\n",
        "\n",
        "    def on_epoch_end(self, epoch, logs=None):\n",
        "        logs = logs or {}\n",
        "        accuracy = logs.get('accuracy')\n",
        "        if accuracy is not None and accuracy >= self.target_accuracy:\n",
        "            print(f\"\\nTarget accuracy {self.target_accuracy * 100:.2f}% reached at epoch {epoch + 1}.\")\n",
        "            print(\"Stopping training...\")\n",
        "            self.model.save(self.model_save_path)\n",
        "            print(f\"Model saved to {self.model_save_path}.\")\n",
        "            self.model.stop_training = True"
      ]
    },
    {
      "cell_type": "code",
      "execution_count": null,
      "metadata": {
        "colab": {
          "background_save": true
        },
        "id": "LhcvUemeHMqw"
      },
      "outputs": [],
      "source": [
        "# --- Training and Validation ---\n",
        "def train_model(train_path, test_path, img_size, batch_size, epochs, learning_rate, target_accuracy, model_save_path):\n",
        "    # Data Generators\n",
        "    train_datagen = ImageDataGenerator(rescale=1.0 / 255, validation_split=0.2)\n",
        "    test_datagen = ImageDataGenerator(rescale=1.0 / 255)\n",
        "\n",
        "    train_generator = train_datagen.flow_from_directory(\n",
        "        train_path,\n",
        "        target_size=img_size,\n",
        "        batch_size=batch_size,\n",
        "        class_mode='categorical',\n",
        "        subset='training'\n",
        "    )\n",
        "\n",
        "    validation_generator = train_datagen.flow_from_directory(\n",
        "        train_path,\n",
        "        target_size=img_size,\n",
        "        batch_size=batch_size,\n",
        "        class_mode='categorical',\n",
        "        subset='validation'\n",
        "    )\n",
        "\n",
        "    test_generator = test_datagen.flow_from_directory(\n",
        "        test_path,\n",
        "        target_size=img_size,\n",
        "        batch_size=batch_size,\n",
        "        class_mode='categorical',\n",
        "        shuffle=False\n",
        "    )\n",
        "\n",
        "    # Create Model\n",
        "    input_shape = (img_size[0], img_size[1], 3)\n",
        "    model = create_cnn_model(input_shape, train_generator.num_classes)\n",
        "\n",
        "    # Compile Model\n",
        "    model.compile(optimizer=Adam(learning_rate=learning_rate),\n",
        "                  loss='categorical_crossentropy',\n",
        "                  metrics=['accuracy'])\n",
        "\n",
        "    # Callbacks\n",
        "    checkpoint = ModelCheckpoint(model_save_path, monitor='val_loss', save_best_only=True, verbose=1)\n",
        "    early_stopping = EarlyStoppingByAccuracy(target_accuracy=target_accuracy, model_save_path=model_save_path)\n",
        "    reduce_lr = ReduceLROnPlateau(monitor='val_loss', factor=0.2, patience=5, min_lr=1e-6, verbose=1)\n",
        "\n",
        "    # Train Model\n",
        "    history = model.fit(\n",
        "        train_generator,\n",
        "        validation_data=validation_generator,\n",
        "        epochs=epochs,\n",
        "        callbacks=[checkpoint, early_stopping, reduce_lr]\n",
        "    )\n",
        "\n",
        "    # Evaluate Model\n",
        "    _, accuracy = model.evaluate(test_generator)\n",
        "    print(f\"Test Accuracy: {accuracy * 100:.2f}%\")\n",
        "\n",
        "    return model, history, train_generator.class_indices"
      ]
    },
    {
      "cell_type": "code",
      "execution_count": null,
      "metadata": {
        "colab": {
          "background_save": true
        },
        "id": "5Xe2a3VcHNtl"
      },
      "outputs": [],
      "source": [
        "# --- Train and Save Model ---\n",
        "model, history, class_indices = train_model(\n",
        "    TRAIN_PATH, TEST_PATH, IMG_SIZE, BATCH_SIZE, EPOCHS, LEARNING_RATE, TARGET_ACCURACY, MODEL_SAVE_PATH\n",
        ")"
      ]
    },
    {
      "cell_type": "code",
      "execution_count": null,
      "metadata": {
        "colab": {
          "background_save": true
        },
        "id": "JJN9OICTHaYF"
      },
      "outputs": [],
      "source": [
        "# --- Plot Training History ---\n",
        "def plot_training_history(history):\n",
        "    plt.figure(figsize=(12, 5))\n",
        "\n",
        "    # Accuracy\n",
        "    plt.subplot(1, 2, 1)\n",
        "    plt.plot(history.history['accuracy'], label='Train')\n",
        "    plt.plot(history.history['val_accuracy'], label='Validation')\n",
        "    plt.title('Accuracy')\n",
        "    plt.xlabel('Epochs')\n",
        "    plt.ylabel('Accuracy')\n",
        "    plt.legend()\n",
        "\n",
        "    # Loss\n",
        "    plt.subplot(1, 2, 2)\n",
        "    plt.plot(history.history['loss'], label='Train')\n",
        "    plt.plot(history.history['val_loss'], label='Validation')\n",
        "    plt.title('Loss')\n",
        "    plt.xlabel('Epochs')\n",
        "    plt.ylabel('Loss')\n",
        "    plt.legend()\n",
        "\n",
        "    plt.tight_layout()\n",
        "    plt.show()\n",
        "\n",
        "plot_training_history(history)"
      ]
    },
    {
      "cell_type": "code",
      "execution_count": null,
      "metadata": {
        "colab": {
          "background_save": true
        },
        "id": "wrNREIQUHegW"
      },
      "outputs": [],
      "source": [
        "import numpy as np\n",
        "from tensorflow.keras.utils import load_img, img_to_array\n",
        "from tensorflow.keras.models import load_model\n",
        "\n",
        "# Mapping class indices secara manual\n",
        "class_indices = {\n",
        "    'Banana_Banana_cordana': 0, 'Banana_Banana_healthy': 1, 'Banana_Banana_pestalotiopsis': 2, 'Banana_Banana_sigatoka': 3,\n",
        "    'Bean_Bean_angular_leaf_spot': 4, 'Bean_Bean_bean_rust': 5, 'Bean_Bean_healthy': 6,\n",
        "    'Cassava_Cassava_cassava_bacterial_blight_cbb': 7, 'Cassava_Cassava_cassava_brown_streak_disease_cbsd': 8,\n",
        "    'Cassava_Cassava_cassava_green_mottle_cgm': 9, 'Cassava_Cassava_cassava_mosaic_disease_cmd': 10,\n",
        "    'Cassava_Cassava_healthy': 11, 'Cauli Flower_Cauli Flower_bacterial_spot_rot': 12,\n",
        "    'Cauli Flower_Cauli Flower_downy_mildew': 13, 'Cauli Flower_Cauli Flower_no_disease': 14,\n",
        "    'Corn_Corn_blight': 15, 'Corn_Corn_common_rust': 16, 'Corn_Corn_gray_leaf_spot': 17, 'Corn_Corn_healthy': 18,\n",
        "    'Cucumber_Cucumber_anthracnose': 19, 'Cucumber_Cucumber_bacterial_wilt': 20, 'Cucumber_Cucumber_belly_rot': 21,\n",
        "    'Cucumber_Cucumber_downy_mildew': 22, 'Cucumber_Cucumber_fresh_cucumber': 23, 'Cucumber_Cucumber_fresh_leaf': 24,\n",
        "    'Cucumber_Cucumber_gummy_stem_blight': 25, 'Cucumber_Cucumber_pythium_fruit_rot': 26,\n",
        "    'Mango_Mango_anthracnose': 27, 'Mango_Mango_bacterial_canker': 28, 'Mango_Mango_cutting_weevil': 29,\n",
        "    'Mango_Mango_die_back': 30, 'Mango_Mango_gall_midge': 31, 'Mango_Mango_healthy': 32, 'Mango_Mango_powdery_mildew': 33,\n",
        "    'Mango_Mango_sooty_mould': 34, 'Potato_Potato_alternaria_solani': 35, 'Potato_Potato_healthy': 36,\n",
        "    'Potato_Potato_insect': 37, 'Potato_Potato_phytopthora_infestans': 38, 'Potato_Potato_virus': 39,\n",
        "    'Pumpkin_Pumpkin_Bacterial Leaf Spot': 40, 'Pumpkin_Pumpkin_Downy Mildew': 41,\n",
        "    'Pumpkin_Pumpkin_Healthy Leaf': 42, 'Pumpkin_Pumpkin_Mosaic Disease': 43, 'Pumpkin_Pumpkin_Powdery_Mildew': 44\n",
        "}\n",
        "\n",
        "# Fungsi prediksi gambar\n",
        "def predict_image(model_path, image_path, img_size, class_indices):\n",
        "    # Load model\n",
        "    model = load_model(model_path)\n",
        "\n",
        "    # Load dan preproses gambar\n",
        "    img = load_img(image_path, target_size=img_size)\n",
        "    img_array = img_to_array(img) / 255.0  # Normalisasi\n",
        "    img_array = np.expand_dims(img_array, axis=0)  # Tambahkan dimensi batch\n",
        "\n",
        "    # Prediksi\n",
        "    predictions = model.predict(img_array)\n",
        "    predicted_class = np.argmax(predictions, axis=1)[0]\n",
        "\n",
        "    # Mapping index ke label\n",
        "    class_labels = {v: k for k, v in class_indices.items()}\n",
        "    full_label = class_labels.get(predicted_class, \"Unknown\")\n",
        "\n",
        "    # Pisahkan nama tanaman dan penyakit\n",
        "    if '_' in full_label:\n",
        "        nama_tanaman, penyakit_tanaman = full_label.split('_', 1)\n",
        "    else:\n",
        "        nama_tanaman, penyakit_tanaman = full_label, \"Tidak diketahui\"\n",
        "\n",
        "    confidence_score = predictions[0][predicted_class] * 100\n",
        "\n",
        "    return nama_tanaman, penyakit_tanaman, confidence_score\n",
        "\n",
        "# Definisi parameter\n",
        "model_path = 'Train_23_nov_3.keras'  # Ganti dengan path model Anda\n",
        "image_path = '/content/PlantDisease_Dataset/Potato/Potato_alternaria_solani/Potato_alternaria_solani_1.jpg'  # Ganti dengan path gambar Anda\n",
        "img_size = (224, 224)  # Ukuran input model\n",
        "\n",
        "# Prediksi\n",
        "nama_tanaman, penyakit_tanaman, confidence_score = predict_image(model_path, image_path, img_size, class_indices)\n",
        "\n",
        "# Tampilkan hasil\n",
        "print(f\"Nama Tanaman: {nama_tanaman}\")\n",
        "print(f\"Penyakit Tanaman: {penyakit_tanaman}\")\n",
        "print(f\"Hasil Prediksi: {confidence_score:.2f}%\")\n"
      ]
    },
    {
      "cell_type": "code",
      "execution_count": null,
      "metadata": {
        "colab": {
          "background_save": true
        },
        "id": "-uQmGdXqi15m"
      },
      "outputs": [],
      "source": [
        "from google.colab import files\n",
        "files.download('Train_23_nov_3.keras')"
      ]
    }
  ],
  "metadata": {
    "accelerator": "GPU",
    "colab": {
      "gpuType": "T4",
      "provenance": [],
      "toc_visible": true
    },
    "kernelspec": {
      "display_name": "Python 3",
      "name": "python3"
    },
    "language_info": {
      "name": "python"
    }
  },
  "nbformat": 4,
  "nbformat_minor": 0
}